{
 "cells": [
  {
   "cell_type": "markdown",
   "id": "71190675",
   "metadata": {},
   "source": [
    " EJERCICIO 1: Leer archivos y explorar datos (10 minutos)\n",
    "📘 Enunciado:\n",
    "Importa la librería pandas.\n",
    "Carga el archivo ventas.csv en una variable llamada ventas.\n",
    "Carga el archivo clientes.xlsx en una variable llamada clientes.\n",
    "Muestra las primeras 5 filas de cada DataFrame.\n",
    "Muestra la estructura general (columnas y tipo de datos) de ambos DataFrames."
   ]
  },
  {
   "cell_type": "code",
   "execution_count": 31,
   "id": "7d7f667b",
   "metadata": {},
   "outputs": [
    {
     "name": "stdout",
     "output_type": "stream",
     "text": [
      "        Fecha Producto  Cantidad  PrecioUnitario  Total\n",
      "0  2025-01-31   Laptop         1             800    800\n",
      "1  2025-02-28    Mouse         3              25     75\n",
      "2  2025-03-31  Teclado         2              45     90\n",
      "3  2025-04-30  Monitor         1             200    200\n",
      "4  2025-05-31    Mouse         4              25    100\n",
      "   ID  Nombre     Ciudad  Edad\n",
      "0   1     Ana      Quito    22\n",
      "1   2    Luis  Guayaquil    35\n",
      "2   3   Pedro      Quito    28\n",
      "3   4   Lucía     Cuenca    40\n",
      "4   5  Carlos  Guayaquil    31\n",
      "<class 'pandas.core.frame.DataFrame'>\n",
      "RangeIndex: 10 entries, 0 to 9\n",
      "Data columns (total 5 columns):\n",
      " #   Column          Non-Null Count  Dtype \n",
      "---  ------          --------------  ----- \n",
      " 0   Fecha           10 non-null     object\n",
      " 1   Producto        10 non-null     object\n",
      " 2   Cantidad        10 non-null     int64 \n",
      " 3   PrecioUnitario  10 non-null     int64 \n",
      " 4   Total           10 non-null     int64 \n",
      "dtypes: int64(3), object(2)\n",
      "memory usage: 532.0+ bytes\n",
      "None\n",
      "<class 'pandas.core.frame.DataFrame'>\n",
      "RangeIndex: 10 entries, 0 to 9\n",
      "Data columns (total 4 columns):\n",
      " #   Column  Non-Null Count  Dtype \n",
      "---  ------  --------------  ----- \n",
      " 0   ID      10 non-null     int64 \n",
      " 1   Nombre  10 non-null     object\n",
      " 2   Ciudad  10 non-null     object\n",
      " 3   Edad    10 non-null     int64 \n",
      "dtypes: int64(2), object(2)\n",
      "memory usage: 452.0+ bytes\n",
      "None\n"
     ]
    }
   ],
   "source": [
    "import pandas as pd\n",
    "\n",
    "ventas = pd.read_csv(\"Ventas.csv\") # cargar archivos\n",
    "clientes = pd.read_excel(\"Clientes.xlsx\") # cargar archivos\n",
    "\n",
    "print(ventas.head()) # por defecto 5 primeros\n",
    "print(clientes.head(5)) # especifico 5 elementos \n",
    "\n",
    "print(ventas.info()) # columnas y tipos de datos\n",
    "print(clientes.info()) # columnas y tipos de datos "
   ]
  },
  {
   "cell_type": "markdown",
   "id": "99447b08",
   "metadata": {},
   "source": [
    "EJERCICIO 2: Uso de Series (5 minutos)\n",
    "📘 Enunciado:\n",
    "Crea una Serie con los valores [100, 200, 300, 400] y los índices [\"A\", \"B\", \"C\", \"D\"].\n",
    "Accede al valor correspondiente al índice \"C\".\n",
    "Eleva todos los valores de la serie al cuadrado."
   ]
  },
  {
   "cell_type": "code",
   "execution_count": null,
   "id": "768e232e",
   "metadata": {},
   "outputs": [],
   "source": [
    "serie = pd.Series([100, 200,300,400], index=[\"A\", \"B\", \"C\", \"D\"])\n",
    "print(serie)\n",
    "print(\"El valor del literal C es : \", serie['C']) # seleccion de valores semejante a un uso de diccionarios\n",
    "print((serie ** 2))"
   ]
  },
  {
   "cell_type": "markdown",
   "id": "890b6c82",
   "metadata": {},
   "source": [
    "EJERCICIO 3: Selección de columnas y filas (10 minutos)\n",
    "📘 Enunciado:\n",
    "Muestra solo la columna \"Producto\" del DataFrame ventas.\n",
    "Muestra solo las columnas \"Nombre\" y \"Ciudad\" del DataFrame clientes.\n",
    "Muestra las primeras 3 filas de ventas usando iloc.\n",
    "Muestra todos los clientes que viven en \"Quito\" usando loc."
   ]
  },
  {
   "cell_type": "code",
   "execution_count": null,
   "id": "85593bbf",
   "metadata": {},
   "outputs": [
    {
     "name": "stdout",
     "output_type": "stream",
     "text": [
      "Index(['Fecha', 'Producto', 'Cantidad', 'PrecioUnitario', 'Total'], dtype='object')\n",
      "0     Laptop\n",
      "1      Mouse\n",
      "2    Teclado\n",
      "3    Monitor\n",
      "4      Mouse\n",
      "5     Laptop\n",
      "6    Teclado\n",
      "7    Monitor\n",
      "8      Mouse\n",
      "9    Teclado\n",
      "Name: Producto, dtype: object\n",
      "   Nombre     Ciudad\n",
      "0     Ana      Quito\n",
      "1    Luis  Guayaquil\n",
      "2   Pedro      Quito\n",
      "3   Lucía     Cuenca\n",
      "4  Carlos  Guayaquil\n",
      "5   María       Loja\n",
      "6    José      Quito\n",
      "7  Andrea      Manta\n",
      "8  Miguel  Guayaquil\n",
      "9   Elena     Ambato\n",
      "        Fecha Producto  Cantidad  PrecioUnitario  Total\n",
      "0  2025-01-31   Laptop         1             800    800\n",
      "1  2025-02-28    Mouse         3              25     75\n",
      "2  2025-03-31  Teclado         2              45     90\n",
      "ULTIMO LITERAL \n",
      "\n",
      "   ID Nombre Ciudad  Edad\n",
      "0   1    Ana  Quito    22\n",
      "2   3  Pedro  Quito    28\n",
      "6   7   José  Quito    29\n",
      "0      Ana\n",
      "1     Luis\n",
      "2    Pedro\n",
      "Name: Nombre, dtype: object\n"
     ]
    }
   ],
   "source": [
    "print(ventas.columns)\n",
    "print(ventas['Producto'])\n",
    "print(clientes[[\"Nombre\", \"Ciudad\"]])\n",
    "\n",
    "print(ventas.iloc[0:3]) # iloc se utiliza unicamente numerica [filas, columnas]\n",
    "print(\"ULTIMO LITERAL \\n\")\n",
    "print(clientes[clientes[\"Ciudad\"]==\"Quito\"]) # loc trabaja con etiquetas o titulos de las tablas [filas #, titulos]\n",
    "print(clientes.loc[0:2,\"Nombre\"]) # uso correcto del loc filas numerico columnas titulo\n",
    "\n",
    "# Iloc y loc \n",
    "# ? uso es primprdial para seleccionar filas y columnas en especifico\n"
   ]
  },
  {
   "cell_type": "markdown",
   "id": "8596ce42",
   "metadata": {},
   "source": [
    "EJERCICIO 4: Aplicar filtros (10 minutos)\n",
    "📘 Enunciado:\n",
    "Filtra las ventas con un total mayor a $500.\n",
    "Filtra los clientes con edad mayor a 30 años."
   ]
  },
  {
   "cell_type": "code",
   "execution_count": 37,
   "id": "90c3ceea",
   "metadata": {},
   "outputs": [
    {
     "name": "stdout",
     "output_type": "stream",
     "text": [
      "        Fecha Producto  Cantidad  PrecioUnitario  Total\n",
      "0  2025-01-31   Laptop         1             800    800\n",
      "5  2025-06-30   Laptop         2             800   1600\n",
      "   ID  Nombre     Ciudad  Edad\n",
      "1   2    Luis  Guayaquil    35\n",
      "3   4   Lucía     Cuenca    40\n",
      "4   5  Carlos  Guayaquil    31\n",
      "7   8  Andrea      Manta    33\n"
     ]
    }
   ],
   "source": [
    "ventas_mayores_500=ventas[ventas[\"Total\"] > 500]\n",
    "print(ventas_mayores_500)\n",
    "clientes_mayores_30=clientes[clientes['Edad'] > 30]\n",
    "print(clientes_mayores_30)"
   ]
  },
  {
   "cell_type": "markdown",
   "id": "03a7bdbc",
   "metadata": {},
   "source": [
    "EJERCICIO 5: Estadísticas descriptivas (10 minutos)\n",
    "📘 Enunciado:\n",
    "Muestra un resumen estadístico del DataFrame ventas.\n",
    "Muestra cuántos registros tiene clientes y el tipo de cada columna."
   ]
  },
  {
   "cell_type": "code",
   "execution_count": 39,
   "id": "8da07d73",
   "metadata": {},
   "outputs": [
    {
     "name": "stdout",
     "output_type": "stream",
     "text": [
      "        Cantidad  PrecioUnitario        Total\n",
      "count  10.000000       10.000000    10.000000\n",
      "mean    2.400000      221.000000   357.000000\n",
      "std     1.349897      312.612646   492.737252\n",
      "min     1.000000       25.000000    45.000000\n",
      "25%     1.250000       30.000000    92.500000\n",
      "50%     2.000000       45.000000   130.000000\n",
      "75%     3.000000      200.000000   350.000000\n",
      "max     5.000000      800.000000  1600.000000\n",
      "<class 'pandas.core.frame.DataFrame'>\n",
      "RangeIndex: 10 entries, 0 to 9\n",
      "Data columns (total 4 columns):\n",
      " #   Column  Non-Null Count  Dtype \n",
      "---  ------  --------------  ----- \n",
      " 0   ID      10 non-null     int64 \n",
      " 1   Nombre  10 non-null     object\n",
      " 2   Ciudad  10 non-null     object\n",
      " 3   Edad    10 non-null     int64 \n",
      "dtypes: int64(2), object(2)\n",
      "memory usage: 452.0+ bytes\n",
      "None\n"
     ]
    }
   ],
   "source": [
    "print(ventas.describe()) # resumen estadistico\n",
    "print(clientes.info())"
   ]
  },
  {
   "cell_type": "markdown",
   "id": "914962d5",
   "metadata": {},
   "source": [
    "EJERCICIO 6: Guardar archivos filtrados (10 minutos)\n",
    "📘 Enunciado:\n",
    "Guarda las ventas con total mayor a $500 en un archivo llamado ventas_filtradas.csv.\n",
    "Guarda los clientes mayores de 30 años en un archivo llamado clientes_30mas.xlsx."
   ]
  },
  {
   "cell_type": "code",
   "execution_count": 48,
   "id": "b504928b",
   "metadata": {},
   "outputs": [
    {
     "name": "stdout",
     "output_type": "stream",
     "text": [
      "        Fecha Producto  Cantidad  PrecioUnitario  Total\n",
      "0  2025-01-31   Laptop         1             800    800\n",
      "5  2025-06-30   Laptop         2             800   1600\n"
     ]
    }
   ],
   "source": [
    "venta_filtradas = ventas[ventas['Total']> 500]\n",
    "print(venta_filtradas)\n",
    "venta_filtradas.to_csv(\"Respuesta/ventas_filtradas.csv\", index=False)\n",
    "# ! Importante Debe exisitr la ruta para crear el archivo con pandas\n",
    "cliente_30= clientes[clientes['Edad'] > 30 ]\n",
    "cliente_30.to_excel(\"Respuesta/Clientes_filtrados.xlsx\", index=False)\n",
    "\n"
   ]
  },
  {
   "cell_type": "markdown",
   "id": "99ffca2a",
   "metadata": {},
   "source": [
    "EJERCICIO FINAL: Desafío aplicado\n",
    "📘 Enunciado:\n",
    "Muestra los clientes que viven en \"Guayaquil\" y tienen más de 25 años.\n",
    "Filtra las ventas del producto \"Mouse\" cuyo total sea mayor a $200.\n",
    "Guarda ambos filtros en archivos separados:\n",
    "clientes_guayaquil_25mas.csv\n",
    "ventas_mouse_200mas.csv"
   ]
  },
  {
   "cell_type": "code",
   "execution_count": 53,
   "id": "d67be0fc",
   "metadata": {},
   "outputs": [
    {
     "name": "stdout",
     "output_type": "stream",
     "text": [
      "   ID  Nombre     Ciudad  Edad\n",
      "1   2    Luis  Guayaquil    35\n",
      "4   5  Carlos  Guayaquil    31\n",
      "8   9  Miguel  Guayaquil    26\n",
      "        Fecha Producto  Cantidad  PrecioUnitario  Total\n",
      "8  2025-09-30    Mouse         5              25    125\n"
     ]
    }
   ],
   "source": [
    "filtro_clientes = clientes[(clientes['Ciudad'] == \"Guayaquil\") & (clientes['Edad'] > 25)]\n",
    "print(filtro_clientes)\n",
    "filtro_clientes.to_csv(\"Respuesta/clientes_guayaquil_25mas.csv\", index=False)\n",
    "filtro_ventas = ventas[(ventas['Producto']== \"Mouse\") & ( ventas['Total'] > 100)]\n",
    "print(filtro_ventas)\n",
    "filtro_ventas.to_csv(\"Respuesta/ventas_mouse_200mas.csv\", index= False )\n"
   ]
  },
  {
   "cell_type": "code",
   "execution_count": null,
   "id": "3db5cc8e",
   "metadata": {},
   "outputs": [],
   "source": []
  }
 ],
 "metadata": {
  "kernelspec": {
   "display_name": "Python 3",
   "language": "python",
   "name": "python3"
  },
  "language_info": {
   "codemirror_mode": {
    "name": "ipython",
    "version": 3
   },
   "file_extension": ".py",
   "mimetype": "text/x-python",
   "name": "python",
   "nbconvert_exporter": "python",
   "pygments_lexer": "ipython3",
   "version": "3.13.3"
  }
 },
 "nbformat": 4,
 "nbformat_minor": 5
}
