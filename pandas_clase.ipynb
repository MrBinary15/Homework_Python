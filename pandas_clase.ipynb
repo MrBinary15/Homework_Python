{
 "cells": [
  {
   "cell_type": "markdown",
   "id": "bfb865cc",
   "metadata": {},
   "source": [
    "clase de pandas\n",
    "pandas es una libreria externa usada para el analisis de datos, manipulación de archivos de manera mas reapida sencilla.\n",
    "1. abrien en el terminal \n",
    "2. pip install pandas\n",
    "3. pip istall openpyxl => es una libreria para nipular archivos de excel\n",
    "\n",
    "siempre importar pandas\n",
    "import pandas as pd\n"
   ]
  },
  {
   "cell_type": "code",
   "execution_count": 1,
   "id": "c1d662d6",
   "metadata": {},
   "outputs": [],
   "source": [
    "import pandas as pd #libreria pandas nombre pd"
   ]
  },
  {
   "cell_type": "code",
   "execution_count": 14,
   "id": "7452269a",
   "metadata": {},
   "outputs": [
    {
     "name": "stdout",
     "output_type": "stream",
     "text": [
      "a    10\n",
      "b    20\n",
      "c    30\n",
      "d    40\n",
      "dtype: int64\n",
      "1      1\n",
      "3     11\n",
      "5     21\n",
      "7     31\n",
      "9     41\n",
      "11    51\n",
      "13    61\n",
      "15    71\n",
      "17    81\n",
      "19    91\n",
      "dtype: int64\n"
     ]
    }
   ],
   "source": [
    "#? Estructuras de datos\n",
    "\"\"\"1. series \n",
    "es un array (lista, vector) unidimensional etiquetado y \n",
    "puede contener cualquier tipo de dato es que puede realizar  \n",
    "con los datos operacion vectorizados\"\"\"\n",
    "\n",
    "#crea una serie\n",
    "serie = pd.Series([10,20,30,40], index=([\"a\", \"b\", \"c\", \"d\"]))#pandas. crea una series, generacion de un objetos como una \"tabla\"\n",
    "print(serie) #indice es el numero de filas\n",
    "serie2 = pd.Series(range(1,100,10), index=range(1,21,2)) #rango pone rango pero deben ser ls misma dimenciones\n",
    "print(serie2)"
   ]
  },
  {
   "cell_type": "code",
   "execution_count": 16,
   "id": "6ee3c7af",
   "metadata": {},
   "outputs": [
    {
     "name": "stdout",
     "output_type": "stream",
     "text": [
      "{'nombre': ['Anna', 'Luis', 'Carlos'], 'Edad': [25, 30, 28], 'ciudad': ['Madrid', 'Barcelona', 'Quito']}\n"
     ]
    }
   ],
   "source": [
    "# tipo de dato dataframe\n",
    "#es una estructura con la diferecia que es bidimencional filasxcolumnas pude ser datos excel, csv\n",
    "#puedes ser en base a multiples archivos o datos\n",
    "#semejante a excel o tabla sql\n",
    "\n",
    "data = {'nombre':['Anna', 'Luis', 'Carlos'],\n",
    "        'Edad': [25, 30, 28],\n",
    "        'ciudad': ['Madrid', 'Barcelona', 'Quito']\n",
    "        }\n",
    "print(data)"
   ]
  },
  {
   "cell_type": "code",
   "execution_count": null,
   "id": "4e0dca4e",
   "metadata": {},
   "outputs": [
    {
     "name": "stdout",
     "output_type": "stream",
     "text": [
      "   nombre  Edad     ciudad\n",
      "0    Anna    25     Madrid\n",
      "1    Luis    30  Barcelona\n",
      "2  Carlos    28      Quito\n"
     ]
    },
    {
     "data": {
      "text/html": [
       "<div>\n",
       "<style scoped>\n",
       "    .dataframe tbody tr th:only-of-type {\n",
       "        vertical-align: middle;\n",
       "    }\n",
       "\n",
       "    .dataframe tbody tr th {\n",
       "        vertical-align: top;\n",
       "    }\n",
       "\n",
       "    .dataframe thead th {\n",
       "        text-align: right;\n",
       "    }\n",
       "</style>\n",
       "<table border=\"1\" class=\"dataframe\">\n",
       "  <thead>\n",
       "    <tr style=\"text-align: right;\">\n",
       "      <th></th>\n",
       "      <th>nombre</th>\n",
       "      <th>Edad</th>\n",
       "      <th>ciudad</th>\n",
       "    </tr>\n",
       "  </thead>\n",
       "  <tbody>\n",
       "    <tr>\n",
       "      <th>0</th>\n",
       "      <td>Anna</td>\n",
       "      <td>25</td>\n",
       "      <td>Madrid</td>\n",
       "    </tr>\n",
       "    <tr>\n",
       "      <th>1</th>\n",
       "      <td>Luis</td>\n",
       "      <td>30</td>\n",
       "      <td>Barcelona</td>\n",
       "    </tr>\n",
       "    <tr>\n",
       "      <th>2</th>\n",
       "      <td>Carlos</td>\n",
       "      <td>28</td>\n",
       "      <td>Quito</td>\n",
       "    </tr>\n",
       "  </tbody>\n",
       "</table>\n",
       "</div>"
      ],
      "text/plain": [
       "   nombre  Edad     ciudad\n",
       "0    Anna    25     Madrid\n",
       "1    Luis    30  Barcelona\n",
       "2  Carlos    28      Quito"
      ]
     },
     "metadata": {},
     "output_type": "display_data"
    },
    {
     "data": {
      "text/html": [
       "<div>\n",
       "<style scoped>\n",
       "    .dataframe tbody tr th:only-of-type {\n",
       "        vertical-align: middle;\n",
       "    }\n",
       "\n",
       "    .dataframe tbody tr th {\n",
       "        vertical-align: top;\n",
       "    }\n",
       "\n",
       "    .dataframe thead th {\n",
       "        text-align: right;\n",
       "    }\n",
       "</style>\n",
       "<table border=\"1\" class=\"dataframe\">\n",
       "  <thead>\n",
       "    <tr style=\"text-align: right;\">\n",
       "      <th></th>\n",
       "      <th>nombre</th>\n",
       "      <th>Edad</th>\n",
       "      <th>ciudad</th>\n",
       "    </tr>\n",
       "  </thead>\n",
       "  <tbody>\n",
       "    <tr>\n",
       "      <th>0</th>\n",
       "      <td>Anna</td>\n",
       "      <td>25</td>\n",
       "      <td>Madrid</td>\n",
       "    </tr>\n",
       "    <tr>\n",
       "      <th>1</th>\n",
       "      <td>Luis</td>\n",
       "      <td>30</td>\n",
       "      <td>Barcelona</td>\n",
       "    </tr>\n",
       "    <tr>\n",
       "      <th>2</th>\n",
       "      <td>Carlos</td>\n",
       "      <td>28</td>\n",
       "      <td>Quito</td>\n",
       "    </tr>\n",
       "  </tbody>\n",
       "</table>\n",
       "</div>"
      ],
      "text/plain": [
       "   nombre  Edad     ciudad\n",
       "0    Anna    25     Madrid\n",
       "1    Luis    30  Barcelona\n",
       "2  Carlos    28      Quito"
      ]
     },
     "execution_count": 22,
     "metadata": {},
     "output_type": "execute_result"
    }
   ],
   "source": [
    "df=pd.DataFrame(data) #crea un dataframe filasxcolumnas\n",
    "print(df)\n",
    "display(df)\n",
    "df\n",
    "\n",
    "#si es un diccipnario las key son las cabecera de la tabla key = titulo\n",
    "#si leemos un archivo la primera dila sera la cabeceras\n",
    "#! para la creación del dataframe se debe tener la misma dimenciones\n"
   ]
  },
  {
   "cell_type": "code",
   "execution_count": null,
   "id": "7ba81ce0",
   "metadata": {},
   "outputs": [
    {
     "name": "stdout",
     "output_type": "stream",
     "text": [
      "       Nombre  Precio  Cantidad\n",
      "0      Laptop    1000         5\n",
      "1  Smartphone     800        10\n",
      "2      Tablet     600         8\n",
      "3  Smartwatch     200        15\n"
     ]
    }
   ],
   "source": [
    "# cantidad de archivos que se puede usar en un dataframe\n",
    "#json, excel, sql, thml, clipboard, sas, xml\n",
    "data = pd.read_csv(\"Productos.csv\")\n",
    "print(data)"
   ]
  },
  {
   "cell_type": "code",
   "execution_count": 25,
   "id": "810e6de2",
   "metadata": {},
   "outputs": [
    {
     "name": "stdout",
     "output_type": "stream",
     "text": [
      "     show_id     type                  title         director  \\\n",
      "0         s1    Movie   Dick Johnson Is Dead  Kirsten Johnson   \n",
      "1         s2  TV Show          Blood & Water              NaN   \n",
      "2         s3  TV Show              Ganglands  Julien Leclercq   \n",
      "3         s4  TV Show  Jailbirds New Orleans              NaN   \n",
      "4         s5  TV Show           Kota Factory              NaN   \n",
      "...      ...      ...                    ...              ...   \n",
      "8802   s8803    Movie                 Zodiac    David Fincher   \n",
      "8803   s8804  TV Show            Zombie Dumb              NaN   \n",
      "8804   s8805    Movie             Zombieland  Ruben Fleischer   \n",
      "8805   s8806    Movie                   Zoom     Peter Hewitt   \n",
      "8806   s8807    Movie                 Zubaan      Mozez Singh   \n",
      "\n",
      "                                                   cast        country  \\\n",
      "0                                                   NaN  United States   \n",
      "1     Ama Qamata, Khosi Ngema, Gail Mabalane, Thaban...   South Africa   \n",
      "2     Sami Bouajila, Tracy Gotoas, Samuel Jouy, Nabi...            NaN   \n",
      "3                                                   NaN            NaN   \n",
      "4     Mayur More, Jitendra Kumar, Ranjan Raj, Alam K...          India   \n",
      "...                                                 ...            ...   \n",
      "8802  Mark Ruffalo, Jake Gyllenhaal, Robert Downey J...  United States   \n",
      "8803                                                NaN            NaN   \n",
      "8804  Jesse Eisenberg, Woody Harrelson, Emma Stone, ...  United States   \n",
      "8805  Tim Allen, Courteney Cox, Chevy Chase, Kate Ma...  United States   \n",
      "8806  Vicky Kaushal, Sarah-Jane Dias, Raaghav Chanan...          India   \n",
      "\n",
      "              date_added  release_year rating   duration  \\\n",
      "0     September 25, 2021          2020  PG-13     90 min   \n",
      "1     September 24, 2021          2021  TV-MA  2 Seasons   \n",
      "2     September 24, 2021          2021  TV-MA   1 Season   \n",
      "3     September 24, 2021          2021  TV-MA   1 Season   \n",
      "4     September 24, 2021          2021  TV-MA  2 Seasons   \n",
      "...                  ...           ...    ...        ...   \n",
      "8802   November 20, 2019          2007      R    158 min   \n",
      "8803        July 1, 2019          2018  TV-Y7  2 Seasons   \n",
      "8804    November 1, 2019          2009      R     88 min   \n",
      "8805    January 11, 2020          2006     PG     88 min   \n",
      "8806       March 2, 2019          2015  TV-14    111 min   \n",
      "\n",
      "                                              listed_in  \\\n",
      "0                                         Documentaries   \n",
      "1       International TV Shows, TV Dramas, TV Mysteries   \n",
      "2     Crime TV Shows, International TV Shows, TV Act...   \n",
      "3                                Docuseries, Reality TV   \n",
      "4     International TV Shows, Romantic TV Shows, TV ...   \n",
      "...                                                 ...   \n",
      "8802                     Cult Movies, Dramas, Thrillers   \n",
      "8803             Kids' TV, Korean TV Shows, TV Comedies   \n",
      "8804                            Comedies, Horror Movies   \n",
      "8805                 Children & Family Movies, Comedies   \n",
      "8806     Dramas, International Movies, Music & Musicals   \n",
      "\n",
      "                                            description  \n",
      "0     As her father nears the end of his life, filmm...  \n",
      "1     After crossing paths at a party, a Cape Town t...  \n",
      "2     To protect his family from a powerful drug lor...  \n",
      "3     Feuds, flirtations and toilet talk go down amo...  \n",
      "4     In a city of coaching centers known to train I...  \n",
      "...                                                 ...  \n",
      "8802  A political cartoonist, a crime reporter and a...  \n",
      "8803  While living alone in a spooky town, a young g...  \n",
      "8804  Looking to survive in a world taken over by zo...  \n",
      "8805  Dragged from civilian life, a former superhero...  \n",
      "8806  A scrappy but poor boy worms his way into a ty...  \n",
      "\n",
      "[8807 rows x 12 columns]\n"
     ]
    }
   ],
   "source": [
    "#metodos por defecto de pandas\n",
    "data = pd.read_excel(\"netflix.xlsx\")#lee el archivo de excel\n",
    "print(data)"
   ]
  },
  {
   "cell_type": "code",
   "execution_count": null,
   "id": "aeb72157",
   "metadata": {},
   "outputs": [
    {
     "name": "stdout",
     "output_type": "stream",
     "text": [
      "  show_id     type                  title         director  \\\n",
      "0      s1    Movie   Dick Johnson Is Dead  Kirsten Johnson   \n",
      "1      s2  TV Show          Blood & Water              NaN   \n",
      "2      s3  TV Show              Ganglands  Julien Leclercq   \n",
      "3      s4  TV Show  Jailbirds New Orleans              NaN   \n",
      "4      s5  TV Show           Kota Factory              NaN   \n",
      "\n",
      "                                                cast        country  \\\n",
      "0                                                NaN  United States   \n",
      "1  Ama Qamata, Khosi Ngema, Gail Mabalane, Thaban...   South Africa   \n",
      "2  Sami Bouajila, Tracy Gotoas, Samuel Jouy, Nabi...            NaN   \n",
      "3                                                NaN            NaN   \n",
      "4  Mayur More, Jitendra Kumar, Ranjan Raj, Alam K...          India   \n",
      "\n",
      "           date_added  release_year rating   duration  \\\n",
      "0  September 25, 2021          2020  PG-13     90 min   \n",
      "1  September 24, 2021          2021  TV-MA  2 Seasons   \n",
      "2  September 24, 2021          2021  TV-MA   1 Season   \n",
      "3  September 24, 2021          2021  TV-MA   1 Season   \n",
      "4  September 24, 2021          2021  TV-MA  2 Seasons   \n",
      "\n",
      "                                           listed_in  \\\n",
      "0                                      Documentaries   \n",
      "1    International TV Shows, TV Dramas, TV Mysteries   \n",
      "2  Crime TV Shows, International TV Shows, TV Act...   \n",
      "3                             Docuseries, Reality TV   \n",
      "4  International TV Shows, Romantic TV Shows, TV ...   \n",
      "\n",
      "                                         description  \n",
      "0  As her father nears the end of his life, filmm...  \n",
      "1  After crossing paths at a party, a Cape Town t...  \n",
      "2  To protect his family from a powerful drug lor...  \n",
      "3  Feuds, flirtations and toilet talk go down amo...  \n",
      "4  In a city of coaching centers known to train I...  \n"
     ]
    }
   ],
   "source": [
    "print(data.head())#muestra las 5 primeras filas por defecto\n"
   ]
  },
  {
   "cell_type": "code",
   "execution_count": null,
   "id": "b6cf51a4",
   "metadata": {},
   "outputs": [
    {
     "name": "stdout",
     "output_type": "stream",
     "text": [
      "  show_id   type                 title         director cast        country  \\\n",
      "0      s1  Movie  Dick Johnson Is Dead  Kirsten Johnson  NaN  United States   \n",
      "\n",
      "           date_added  release_year rating duration      listed_in  \\\n",
      "0  September 25, 2021          2020  PG-13   90 min  Documentaries   \n",
      "\n",
      "                                         description  \n",
      "0  As her father nears the end of his life, filmm...  \n"
     ]
    }
   ],
   "source": [
    "print(data.head(1)) #solo la primera fila"
   ]
  },
  {
   "cell_type": "code",
   "execution_count": null,
   "id": "5b0d0e3e",
   "metadata": {},
   "outputs": [
    {
     "name": "stdout",
     "output_type": "stream",
     "text": [
      "     show_id     type        title         director  \\\n",
      "8802   s8803    Movie       Zodiac    David Fincher   \n",
      "8803   s8804  TV Show  Zombie Dumb              NaN   \n",
      "8804   s8805    Movie   Zombieland  Ruben Fleischer   \n",
      "8805   s8806    Movie         Zoom     Peter Hewitt   \n",
      "8806   s8807    Movie       Zubaan      Mozez Singh   \n",
      "\n",
      "                                                   cast        country  \\\n",
      "8802  Mark Ruffalo, Jake Gyllenhaal, Robert Downey J...  United States   \n",
      "8803                                                NaN            NaN   \n",
      "8804  Jesse Eisenberg, Woody Harrelson, Emma Stone, ...  United States   \n",
      "8805  Tim Allen, Courteney Cox, Chevy Chase, Kate Ma...  United States   \n",
      "8806  Vicky Kaushal, Sarah-Jane Dias, Raaghav Chanan...          India   \n",
      "\n",
      "             date_added  release_year rating   duration  \\\n",
      "8802  November 20, 2019          2007      R    158 min   \n",
      "8803       July 1, 2019          2018  TV-Y7  2 Seasons   \n",
      "8804   November 1, 2019          2009      R     88 min   \n",
      "8805   January 11, 2020          2006     PG     88 min   \n",
      "8806      March 2, 2019          2015  TV-14    111 min   \n",
      "\n",
      "                                           listed_in  \\\n",
      "8802                  Cult Movies, Dramas, Thrillers   \n",
      "8803          Kids' TV, Korean TV Shows, TV Comedies   \n",
      "8804                         Comedies, Horror Movies   \n",
      "8805              Children & Family Movies, Comedies   \n",
      "8806  Dramas, International Movies, Music & Musicals   \n",
      "\n",
      "                                            description  \n",
      "8802  A political cartoonist, a crime reporter and a...  \n",
      "8803  While living alone in a spooky town, a young g...  \n",
      "8804  Looking to survive in a world taken over by zo...  \n",
      "8805  Dragged from civilian life, a former superhero...  \n",
      "8806  A scrappy but poor boy worms his way into a ty...  \n"
     ]
    }
   ],
   "source": [
    "print(data.tail())#muestra los ultimos 5 filas de los elementos"
   ]
  },
  {
   "cell_type": "code",
   "execution_count": 40,
   "id": "4022d952",
   "metadata": {},
   "outputs": [
    {
     "name": "stdout",
     "output_type": "stream",
     "text": [
      "     show_id   type    title               director cast          country  \\\n",
      "5925   s5926  Movie  Virunga  Orlando von Einsiedel  NaN  United Kingdom,   \n",
      "\n",
      "            date_added  release_year rating duration  \\\n",
      "5925  November 7, 2014          2014  TV-MA  100 min   \n",
      "\n",
      "                                listed_in  \\\n",
      "5925  Documentaries, International Movies   \n",
      "\n",
      "                                            description  \n",
      "5925  The Oscar-nominated true story of the rangers ...  \n"
     ]
    }
   ],
   "source": [
    "print(data.sample())#muestra de forma aleatoria"
   ]
  },
  {
   "cell_type": "code",
   "execution_count": null,
   "id": "1af4ab79",
   "metadata": {},
   "outputs": [
    {
     "name": "stdout",
     "output_type": "stream",
     "text": [
      "<class 'pandas.core.frame.DataFrame'>\n",
      "RangeIndex: 8807 entries, 0 to 8806\n",
      "Data columns (total 12 columns):\n",
      " #   Column        Non-Null Count  Dtype \n",
      "---  ------        --------------  ----- \n",
      " 0   show_id       8807 non-null   object\n",
      " 1   type          8807 non-null   object\n",
      " 2   title         8807 non-null   object\n",
      " 3   director      6173 non-null   object\n",
      " 4   cast          7982 non-null   object\n",
      " 5   country       7976 non-null   object\n",
      " 6   date_added    8797 non-null   object\n",
      " 7   release_year  8807 non-null   int64 \n",
      " 8   rating        8803 non-null   object\n",
      " 9   duration      8804 non-null   object\n",
      " 10  listed_in     8807 non-null   object\n",
      " 11  description   8807 non-null   object\n",
      "dtypes: int64(1), object(11)\n",
      "memory usage: 825.8+ KB\n",
      "None\n"
     ]
    }
   ],
   "source": [
    "print(data.info()) #se ve informacion de la columa de manera inmediata\n",
    "#ejemplo columa1 show_id 8000 datos que son valores no nulo, tipo de dato objeto texto\n",
    "#info muestra  informacion de la tabla, tipo de datos, elementos vacios."
   ]
  },
  {
   "cell_type": "code",
   "execution_count": null,
   "id": "0cab0738",
   "metadata": {},
   "outputs": [
    {
     "name": "stdout",
     "output_type": "stream",
     "text": [
      "       release_year\n",
      "count   8807.000000\n",
      "mean    2014.180198\n",
      "std        8.819312\n",
      "min     1925.000000\n",
      "25%     2013.000000\n",
      "50%     2017.000000\n",
      "75%     2019.000000\n",
      "max     2021.000000\n"
     ]
    }
   ],
   "source": [
    "print(data.describe())\n",
    "#analisis previo, conteo, prom de elementos, desviacion estandar, el elemento mas pequeños, el mas grande"
   ]
  },
  {
   "cell_type": "code",
   "execution_count": null,
   "id": "7c7addb5",
   "metadata": {},
   "outputs": [
    {
     "name": "stdout",
     "output_type": "stream",
     "text": [
      "Index(['show_id', 'type', 'title', 'director', 'cast', 'country', 'date_added',\n",
      "       'release_year', 'rating', 'duration', 'listed_in', 'description'],\n",
      "      dtype='object')\n",
      "(8807, 12)\n",
      "show_id         object\n",
      "type            object\n",
      "title           object\n",
      "director        object\n",
      "cast            object\n",
      "country         object\n",
      "date_added      object\n",
      "release_year     int64\n",
      "rating          object\n",
      "duration        object\n",
      "listed_in       object\n",
      "description     object\n",
      "dtype: object\n",
      "0       2020\n",
      "1       2021\n",
      "2       2021\n",
      "3       2021\n",
      "4       2021\n",
      "        ... \n",
      "8802    2007\n",
      "8803    2018\n",
      "8804    2009\n",
      "8805    2006\n",
      "8806    2015\n",
      "Name: release_year, Length: 8807, dtype: int64\n"
     ]
    }
   ],
   "source": [
    "#metodos para informacion para desarrollo de que tiene la tabla dimensiones?\n",
    "data = pd.read_excel(\"netflix.xlsx\")\n",
    "print(data.columns) #metodo para mostrar titulos o cabeceras\n",
    "print(data.shape)#metodo shape me las dimenciones filasxcolumnas\n",
    "print(data.dtypes) #para saber tipo de datos\n",
    "#cajitas de metodos obligatoriamente tienen parentesis==> obtener informacion con herramientas  y propiedades llaves sin parenstesis ==> visualiza informacion"
   ]
  },
  {
   "cell_type": "code",
   "execution_count": null,
   "id": "9d25d892",
   "metadata": {},
   "outputs": [
    {
     "name": "stdout",
     "output_type": "stream",
     "text": [
      "Index(['show_id', 'type', 'title', 'director', 'cast', 'country', 'date_added',\n",
      "       'release_year', 'rating', 'duration', 'listed_in', 'description'],\n",
      "      dtype='object')\n",
      "0        Dick Johnson Is Dead\n",
      "1               Blood & Water\n",
      "2                   Ganglands\n",
      "3       Jailbirds New Orleans\n",
      "4                Kota Factory\n",
      "                ...          \n",
      "8802                   Zodiac\n",
      "8803              Zombie Dumb\n",
      "8804               Zombieland\n",
      "8805                     Zoom\n",
      "8806                   Zubaan\n",
      "Name: title, Length: 8807, dtype: object\n",
      "6635    Doomsday Preppers\n",
      "6343          Blue Streak\n",
      "776      American Outlaws\n",
      "6945       He's Out There\n",
      "1903      An Ordinary Man\n",
      "Name: title, dtype: object\n"
     ]
    }
   ],
   "source": [
    "#como obtener informacion o trabajas con pandas\n",
    "data = pd.read_excel('netflix.xlsx')\n",
    "#para obtener una informacion de una columna o varias ==> es referente a utilizar diccionarios\n",
    "print(data.columns)\n",
    "#muestrame los nombres((titulo) de las peliculas \n",
    "print(data['title']) #ver titulos de peliculas\n",
    "print(data['title'].sample(5))#ver 5 titulos aleatorios\n"
   ]
  },
  {
   "cell_type": "code",
   "execution_count": 54,
   "id": "aa899d87",
   "metadata": {},
   "outputs": [
    {
     "name": "stdout",
     "output_type": "stream",
     "text": [
      "0        Dick Johnson Is Dead\n",
      "1               Blood & Water\n",
      "2                   Ganglands\n",
      "3       Jailbirds New Orleans\n",
      "4                Kota Factory\n",
      "                ...          \n",
      "8802                   Zodiac\n",
      "8803              Zombie Dumb\n",
      "8804               Zombieland\n",
      "8805                     Zoom\n",
      "8806                   Zubaan\n",
      "Name: title, Length: 8807, dtype: object 0       Kirsten Johnson\n",
      "1                   NaN\n",
      "2       Julien Leclercq\n",
      "3                   NaN\n",
      "4                   NaN\n",
      "             ...       \n",
      "8802      David Fincher\n",
      "8803                NaN\n",
      "8804    Ruben Fleischer\n",
      "8805       Peter Hewitt\n",
      "8806        Mozez Singh\n",
      "Name: director, Length: 8807, dtype: object\n",
      "                   title         director   duration\n",
      "0   Dick Johnson Is Dead  Kirsten Johnson     90 min\n",
      "1          Blood & Water              NaN  2 Seasons\n",
      "2              Ganglands  Julien Leclercq   1 Season\n",
      "3  Jailbirds New Orleans              NaN   1 Season\n",
      "4           Kota Factory              NaN  2 Seasons\n"
     ]
    }
   ],
   "source": [
    "print(data['title'], data['director'])#forma incorrecta\n",
    "print(data[['title','director', 'duration']].head(5))#forma correcta 5 primeros\n",
    "# se selecciona si son mas de 2 columnas dentro de otro corchete\n"
   ]
  },
  {
   "cell_type": "code",
   "execution_count": 56,
   "id": "e8d21a39",
   "metadata": {},
   "outputs": [
    {
     "name": "stdout",
     "output_type": "stream",
     "text": [
      "0          90 min\n",
      "1       2 Seasons\n",
      "2        1 Season\n",
      "3        1 Season\n",
      "4       2 Seasons\n",
      "          ...    \n",
      "8802      158 min\n",
      "8803    2 Seasons\n",
      "8804       88 min\n",
      "8805       88 min\n",
      "8806      111 min\n",
      "Name: duration, Length: 8807, dtype: object\n",
      "                      title rating\n",
      "0      Dick Johnson Is Dead  PG-13\n",
      "1             Blood & Water  TV-MA\n",
      "2                 Ganglands  TV-MA\n",
      "3     Jailbirds New Orleans  TV-MA\n",
      "4              Kota Factory  TV-MA\n",
      "...                     ...    ...\n",
      "8802                 Zodiac      R\n",
      "8803            Zombie Dumb  TV-Y7\n",
      "8804             Zombieland      R\n",
      "8805                   Zoom     PG\n",
      "8806                 Zubaan  TV-14\n",
      "\n",
      "[8807 rows x 2 columns]\n"
     ]
    }
   ],
   "source": [
    "durations = data['duration']\n",
    "data_info = data[['title', 'rating']]\n",
    "print(durations)\n",
    "print(data_info)"
   ]
  },
  {
   "cell_type": "code",
   "execution_count": 67,
   "id": "f8fd0c73",
   "metadata": {},
   "outputs": [
    {
     "name": "stdout",
     "output_type": "stream",
     "text": [
      "       type                                title  \\\n",
      "0     Movie                 Dick Johnson Is Dead   \n",
      "1   TV Show                        Blood & Water   \n",
      "2   TV Show                            Ganglands   \n",
      "3   TV Show                Jailbirds New Orleans   \n",
      "4   TV Show                         Kota Factory   \n",
      "5   TV Show                        Midnight Mass   \n",
      "6     Movie     My Little Pony: A New Generation   \n",
      "7     Movie                              Sankofa   \n",
      "8   TV Show        The Great British Baking Show   \n",
      "9     Movie                         The Starling   \n",
      "10  TV Show  Vendetta: Truth, Lies and The Mafia   \n",
      "\n",
      "                         director  \n",
      "0                 Kirsten Johnson  \n",
      "1                             NaN  \n",
      "2                 Julien Leclercq  \n",
      "3                             NaN  \n",
      "4                             NaN  \n",
      "5                   Mike Flanagan  \n",
      "6   Robert Cullen, José Luis Ucha  \n",
      "7                    Haile Gerima  \n",
      "8                 Andy Devonshire  \n",
      "9                  Theodore Melfi  \n",
      "10                            NaN  \n"
     ]
    }
   ],
   "source": [
    "#arriba fue de forma phytonica\n",
    "#manera de pandas para otener información\n",
    "# loc utlizando etiquetas(titulos)\n",
    "# variable.loc[filas, columnas]\n",
    "df = pd.read_excel(\"netflix.xlsx\")\n",
    "print(df.loc[0:10,'type':'director'])"
   ]
  },
  {
   "cell_type": "code",
   "execution_count": 73,
   "id": "b7d648ec",
   "metadata": {},
   "outputs": [
    {
     "name": "stdout",
     "output_type": "stream",
     "text": [
      "      type       director\n",
      "1  TV Show            NaN\n",
      "5  TV Show  Mike Flanagan\n"
     ]
    }
   ],
   "source": [
    "print(df.loc[[1,5],['type','director']]) #de la fila 1 hasta la 5"
   ]
  },
  {
   "cell_type": "code",
   "execution_count": null,
   "id": "4d0b51fc",
   "metadata": {},
   "outputs": [
    {
     "name": "stdout",
     "output_type": "stream",
     "text": [
      "       type                                          listed_in\n",
      "0     Movie                                      Documentaries\n",
      "19  TV Show  International TV Shows, Spanish-Language TV Sh...\n"
     ]
    }
   ],
   "source": [
    "#uso del iloc\n",
    "df = pd.read_excel('netflix.xlsx')\n",
    "#iloc es la manera numerica de seleccionar mi espacio de trabajo\n",
    "#print(df.iloc[0:2,1]) #las 2 primeras filas y la primera columna\n",
    "#print(df.iloc[0:11,1:6]) # las 10 primeras filas y las 5 primeras columnas\n",
    "print(df.iloc[[0,19],[1,10]]) #eligiendo que filas y columanas ver, individual"
   ]
  },
  {
   "cell_type": "code",
   "execution_count": 105,
   "id": "7c538c65",
   "metadata": {},
   "outputs": [
    {
     "name": "stdout",
     "output_type": "stream",
     "text": [
      "{'nombre': ['Felipe', 'Carlos', 'Pedro'], 'edad': [29, 28, 32], 'puestos': ['developer', 'RRHH', 'consulting'], 'Salarios': [450, 600, 1200]}\n",
      "   nombre  edad     puestos  Salarios\n",
      "0  Felipe    29   developer       450\n",
      "1  Carlos    28        RRHH       600\n",
      "2   Pedro    32  consulting      1200\n",
      "la cantidad de empleados es: 3\n"
     ]
    }
   ],
   "source": [
    "import pandas as pd\n",
    "#metodos operativos\n",
    "diccionario ={\n",
    "    \"nombre\": [\"Felipe\", \"Carlos\", \"Pedro\"],\n",
    "    \"edad\": [29, 28, 32],\n",
    "   \"puestos\":[\"developer\", \"RRHH\", \"consulting\"],\n",
    "   \"Salarios\":[450, 600, 1200] \n",
    "}\n",
    "print(diccionario)\n",
    "df = pd.DataFrame(diccionario) #crea un dataframe a partir de un diccionario\n",
    "print(df)\n",
    "empleados = df['nombre'].count()\n",
    "print(\"la cantidad de empleados es:\", empleados)"
   ]
  },
  {
   "cell_type": "code",
   "execution_count": 117,
   "id": "5b43ff47",
   "metadata": {},
   "outputs": [
    {
     "name": "stdout",
     "output_type": "stream",
     "text": [
      "   nombre  edad    puestos  Salarios\n",
      "0  Felipe    29  developer       450\n",
      "1  Carlos    28       RRHH       600\n",
      "  nombre  edad     puestos  Salarios\n",
      "2  Pedro    32  consulting      1200\n"
     ]
    }
   ],
   "source": [
    "import pandas as pd\n",
    "diccionario ={\n",
    "    \"nombre\": [\"Felipe\", \"Carlos\", \"Pedro\"],\n",
    "    \"edad\": [29, 28, 32],\n",
    "   \"puestos\":[\"developer\", \"RRHH\", \"consulting\"],\n",
    "   \"Salarios\":[450, 600, 1200] \n",
    "}\n",
    "df = pd.DataFrame(diccionario)\n",
    "print(df [df['Salarios'] < 1000])#de mi tabla imprime los salarios menores a 1000\n",
    "#muestrame salarios menores a 1000 y personas con edad >30\n",
    "print(df[(df[\"Salarios\"]>30) & (df['edad']>30)])\n",
    "#! PANDAS no acepta AND, OR, NOT solo acepta=> &, |, -"
   ]
  },
  {
   "cell_type": "code",
   "execution_count": null,
   "id": "c6566152",
   "metadata": {},
   "outputs": [
    {
     "name": "stdout",
     "output_type": "stream",
     "text": [
      "   nombre  edad     puestos  Salarios\n",
      "0  Felipe    29   developer       450\n",
      "1  Carlos    28        RRHH       600\n",
      "2   Pedro    32  consulting      1200\n",
      "Tabla ordena\n",
      "   nombre  edad     puestos  Salarios\n",
      "2   Pedro    32  consulting      1200\n",
      "0  Felipe    29   developer       450\n",
      "1  Carlos    28        RRHH       600\n",
      "   nombre  edad     puestos  Salarios\n",
      "1  Carlos    28        RRHH       600\n",
      "0  Felipe    29   developer       450\n",
      "2   Pedro    32  consulting      1200\n"
     ]
    }
   ],
   "source": [
    "#metodos de pandas o herramientas\n",
    "#ordene la tabla\n",
    "diccionario ={\n",
    "    \"nombre\": [\"Felipe\", \"Carlos\", \"Pedro\"],\n",
    "    \"edad\": [29, 28, 32],\n",
    "   \"puestos\":[\"developer\", \"RRHH\", \"consulting\"],\n",
    "   \"Salarios\":[450, 600, 1200] \n",
    "}\n",
    "df = pd.DataFrame(diccionario)\n",
    "print(df)\n",
    "print(\"Tabla ordena\")\n",
    "print(df.sort_values(by= 'edad', ascending=False))# por defecto se ordena ascendente\n",
    "print(df.sort_values(by= ['edad', 'Salarios']))#ordena por edad, salario\n",
    "# si hay valores nulos NaN = vacio o nulo en el ordemnamiento esto se muestran primero\n"
   ]
  },
  {
   "cell_type": "code",
   "execution_count": null,
   "id": "7cbb55b2",
   "metadata": {},
   "outputs": [
    {
     "name": "stdout",
     "output_type": "stream",
     "text": [
      "   nombre  edad     puestos  Salarios\n",
      "0  Felipe    29   developer       450\n",
      "1  Carlos    28        RRHH       600\n",
      "2   Pedro    32  consulting      1200\n",
      "None\n",
      "   nombre  edad     puestos  Salarios\n",
      "1  Carlos    28        RRHH       600\n",
      "0  Felipe    29   developer       450\n",
      "2   Pedro    32  consulting      1200\n"
     ]
    }
   ],
   "source": [
    "#! Importante parametro inplace = >\n",
    "diccionario ={\n",
    "    \"nombre\": [\"Felipe\", \"Carlos\", \"Pedro\"],\n",
    "    \"edad\": [29, 28, 32],\n",
    "   \"puestos\":[\"developer\", \"RRHH\", \"consulting\"],\n",
    "   \"Salarios\":[450, 600, 1200] \n",
    "}\n",
    "df = pd.DataFrame(diccionario)\n",
    "print (df)\n",
    "print(df.sort_values(by='edad', inplace=True)) #inplace guarda en la misma variable\n",
    "#buena practica es guardar en una nueva variable\n",
    "\n",
    "print(df)"
   ]
  }
 ],
 "metadata": {
  "kernelspec": {
   "display_name": "Python 3",
   "language": "python",
   "name": "python3"
  },
  "language_info": {
   "codemirror_mode": {
    "name": "ipython",
    "version": 3
   },
   "file_extension": ".py",
   "mimetype": "text/x-python",
   "name": "python",
   "nbconvert_exporter": "python",
   "pygments_lexer": "ipython3",
   "version": "3.13.5"
  }
 },
 "nbformat": 4,
 "nbformat_minor": 5
}
