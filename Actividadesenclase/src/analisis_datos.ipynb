{
 "cells": [
  {
   "cell_type": "markdown",
   "id": "af92a0e9",
   "metadata": {},
   "source": [
    "funciones especiales\n",
    "GroupBy\n",
    "Aggregation\n",
    "Apply\n",
    "index\n",
    "nlargest"
   ]
  },
  {
   "cell_type": "markdown",
   "id": "d90dde32",
   "metadata": {},
   "source": [
    "GRUOP BY\n",
    "perimite agregar o dividir un dataframe en grupos basados a criterios"
   ]
  },
  {
   "cell_type": "code",
   "execution_count": 7,
   "id": "d1447262",
   "metadata": {},
   "outputs": [
    {
     "name": "stdout",
     "output_type": "stream",
     "text": [
      "  Departamentos Empleados  Salarios  Edades\n",
      "0        ventas      Juan      1200      18\n",
      "1        ventas    Carlos       850      23\n",
      "2            IT     Pedro       750      25\n",
      "3            IT     Maria       600      32\n",
      "4            HR    Hectos      2000      23\n",
      "Departamentos\n",
      "HR        2000.0\n",
      "IT         675.0\n",
      "ventas    1025.0\n",
      "Name: Salarios, dtype: float64\n",
      "Departamentos\n",
      "HR        2000\n",
      "IT        1350\n",
      "ventas    2050\n",
      "Name: Salarios, dtype: int64\n",
      "Departamentos\n",
      "HR        1\n",
      "IT        2\n",
      "ventas    2\n",
      "Name: Empleados, dtype: int64\n",
      "Departamentos  Edades\n",
      "HR             23        1\n",
      "IT             25        1\n",
      "               32        1\n",
      "ventas         18        1\n",
      "               23        1\n",
      "Name: Empleados, dtype: int64\n"
     ]
    }
   ],
   "source": [
    "import pandas as pd\n",
    "data= {\n",
    "'Departamentos':['ventas', 'ventas', 'IT', 'IT', \"HR\"],\n",
    "'Empleados': ['Juan', 'Carlos', 'Pedro', 'Maria', 'Hectos'],\n",
    "'Salarios': [1200, 850, 750, 600, 2000],\n",
    "'Edades' : [18, 23, 25, 32, 23]  \n",
    "}\n",
    "\n",
    "df = pd.DataFrame(data)\n",
    "print(df)\n",
    "\n",
    "#GROUPBY sintaxis\n",
    "#df.groupby(como quiere agregar)[información que deseo]\n",
    "#? promedio de los salarios por departamentos\n",
    "print(df.groupby('Departamentos')['Salarios'].mean())#agrupa y saca el promedio \n",
    "#? suma de los salarios de cada departamento\n",
    "print(df.groupby('Departamentos')['Salarios'].sum())#agrupa los despartamentos y los suma\n",
    "print(df.groupby('Departamentos')['Empleados'].count())#agrupa los despartamentos y cuenta cuantos empleados hay en cada departamento\n",
    "print(df.groupby(['Departamentos', 'Edades'])['Empleados'].count())\n"
   ]
  },
  {
   "cell_type": "markdown",
   "id": "01419b67",
   "metadata": {},
   "source": [
    "Agregattion o Agg\n",
    "Permite aplicar multiples funciones de agregacion (mean, std, min, max, count)"
   ]
  },
  {
   "cell_type": "code",
   "execution_count": 16,
   "id": "423cacab",
   "metadata": {},
   "outputs": [
    {
     "name": "stdout",
     "output_type": "stream",
     "text": [
      "                 mean   min   max   sum  count\n",
      "Departamentos                                 \n",
      "HR             2000.0  2000  2000  2000      1\n",
      "IT              675.0   600   750  1350      2\n",
      "ventas         1025.0   850  1200  2050      2\n",
      "              Salarios       Edades    \n",
      "                  mean   max    min max\n",
      "Departamentos                          \n",
      "HR              2000.0  2000     23  23\n",
      "IT               675.0   750     25  32\n",
      "ventas          1025.0  1200     18  23\n"
     ]
    }
   ],
   "source": [
    "resumen=df.groupby('Departamentos')['Salarios'].agg(['mean', 'min', 'max', 'sum', 'count'])\n",
    "print(resumen)\n",
    "#? uso mas complejo: agrupación multiples columnas\n",
    "resumen_completo = df.groupby('Departamentos').agg(\n",
    "    {\n",
    "        \"Salarios\" : ['mean', 'max'],\n",
    "        \"Edades\" : ['min', 'max']\n",
    "    }\n",
    ")\n",
    "print(resumen_completo)"
   ]
  },
  {
   "cell_type": "markdown",
   "id": "450f2dbf",
   "metadata": {},
   "source": [
    "APPLY\n",
    "Es una herramienta de las mas versatiles y permite aplicar funciones a lo largo de un eje\n",
    "\n",
    "trabajo toda las filas o columnas\n"
   ]
  },
  {
   "cell_type": "code",
   "execution_count": null,
   "id": "73e49e23",
   "metadata": {},
   "outputs": [
    {
     "name": "stdout",
     "output_type": "stream",
     "text": [
      "    A   B   C\n",
      "0  10   5  10\n",
      "1  20  10  30\n",
      "2  30  20  40\n",
      "    A   B   C\n",
      "0  20  15  20\n",
      "1  30  20  40\n",
      "2  40  30  50\n",
      "0     8.333333\n",
      "1    20.000000\n",
      "2    30.000000\n",
      "dtype: float64\n"
     ]
    }
   ],
   "source": [
    "df = pd.DataFrame({\n",
    "    \"A\": [10, 20, 30],\n",
    "    \"B\": [5, 10, 20],\n",
    "    \"C\": [10, 30, 40]\n",
    "})\n",
    "print(df)\n",
    "df_sumado = df.apply(lambda col: col +10)\n",
    "print(df_sumado)\n",
    "#? promedio por filas\n",
    "df_promedio = df.apply(lambda fila: fila.mean(), axis=1)\n",
    "print(df_promedio)"
   ]
  },
  {
   "cell_type": "markdown",
   "id": "b6640b79",
   "metadata": {},
   "source": [
    "APPLYMAP TRABAJA ELEMENTO POR ELEMENTO"
   ]
  },
  {
   "cell_type": "code",
   "execution_count": null,
   "id": "38a4f0f8",
   "metadata": {},
   "outputs": [],
   "source": [
    "def clasificar(valor):\n",
    "    if valor >15:\n",
    "        return \"alto\"\n",
    "    else:\n",
    "        return \"bajo\"\n",
    "df_"
   ]
  }
 ],
 "metadata": {
  "kernelspec": {
   "display_name": "Python 3",
   "language": "python",
   "name": "python3"
  },
  "language_info": {
   "codemirror_mode": {
    "name": "ipython",
    "version": 3
   },
   "file_extension": ".py",
   "mimetype": "text/x-python",
   "name": "python",
   "nbconvert_exporter": "python",
   "pygments_lexer": "ipython3",
   "version": "3.13.5"
  }
 },
 "nbformat": 4,
 "nbformat_minor": 5
}
