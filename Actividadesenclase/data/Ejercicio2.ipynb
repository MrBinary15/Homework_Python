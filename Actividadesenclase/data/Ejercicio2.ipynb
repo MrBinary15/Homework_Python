{
 "cells": [
  {
   "cell_type": "markdown",
   "id": "133005a3",
   "metadata": {},
   "source": [
    "Analisis SocialNetworks\n",
    "\n",
    "Realizar un analisis con datos de un archivo csv SocialNetwork.csv\n",
    "1. Trabajar solo con los 1000 datos (drop())\n",
    "2  Trabajar solo con las columnas: (drop())\n",
    "    'age', 'gender', 'job_type', 'daily_social_media_time',\n",
    "       'social_platform_preference', 'number_of_notifications',\n",
    "       'work_hours_per_day', 'actual_productivity_score', 'stress_level'\n",
    "3. Limpiar datos vacios con el promedio (isna()) || (fillna())\n",
    "4. Mostrar cuandas hombre y cuantas mujeres hicieron la encuesta (groupby())\n",
    "5.  Mostrar las red social mas utilizada\n",
    "    Mostrar la red social menos utilizada\n",
    "5. TOP 3 trabajo es el que mas utiliza redes sociales (sorted_by | head)\n",
    "6 Mostrar cuantas horas pasa cada trbajo en redes sociales  groupby\n",
    "7. mostrar en tabla 3l promedio horas de trabaja y el promedio de horas en redes sociales (Visualizacion de columas y metodos mean\n",
    "8. Mostrar en tabla el promedio de horas trabajadas, horas en redes sociales, (groupby | filtros por columnas)\n",
    "   cantidad de notificaciones y el promedio de notificaciones por hombre y por mujer"
   ]
  },
  {
   "cell_type": "code",
   "execution_count": 13,
   "id": "a5705e3f",
   "metadata": {},
   "outputs": [
    {
     "name": "stdout",
     "output_type": "stream",
     "text": [
      "(30000, 19)\n",
      "(1000, 19)\n",
      "Index(['age', 'gender', 'job_type', 'daily_social_media_time',\n",
      "       'social_platform_preference', 'number_of_notifications',\n",
      "       'work_hours_per_day', 'perceived_productivity_score',\n",
      "       'actual_productivity_score', 'stress_level'],\n",
      "      dtype='object')\n",
      "age                               0\n",
      "gender                            0\n",
      "job_type                          0\n",
      "daily_social_media_time         102\n",
      "social_platform_preference        0\n",
      "number_of_notifications           0\n",
      "work_hours_per_day                0\n",
      "perceived_productivity_score     54\n",
      "actual_productivity_score        77\n",
      "stress_level                     64\n",
      "dtype: int64\n",
      "age                             0\n",
      "gender                          0\n",
      "job_type                        0\n",
      "daily_social_media_time         0\n",
      "social_platform_preference      0\n",
      "number_of_notifications         0\n",
      "work_hours_per_day              0\n",
      "perceived_productivity_score    0\n",
      "actual_productivity_score       0\n",
      "stress_level                    0\n",
      "dtype: int64\n"
     ]
    }
   ],
   "source": [
    "import pandas as pd\n",
    "\n",
    "data= pd.read_csv('data2.csv')\n",
    "print(data.shape)\n",
    "#eliminar filas de mas \n",
    "data.drop(range(1000,30000), inplace=True)\n",
    "print(data.shape)\n",
    "data.drop(data.columns[10:19], axis=1, inplace=True)\n",
    "print(data.columns)\n",
    "print(data.isna().sum()) # verifico datos vacios\n",
    "data.fillna(data.mean(numeric_only=True), inplace=True)\n",
    "print(data.isna().sum()) # verifico datos vacios\n"
   ]
  },
  {
   "cell_type": "code",
   "execution_count": null,
   "id": "95ab20c7",
   "metadata": {},
   "outputs": [
    {
     "name": "stdout",
     "output_type": "stream",
     "text": [
      "gender\n",
      "Female    491\n",
      "Male      463\n",
      "Other      46\n",
      "Name: gender, dtype: int64\n"
     ]
    }
   ],
   "source": [
    "# cantidad de personas hombre y mujeres\n",
    "print(data.groupby('gender')['gender'].count())"
   ]
  },
  {
   "cell_type": "code",
   "execution_count": 18,
   "id": "da068738",
   "metadata": {},
   "outputs": [
    {
     "name": "stdout",
     "output_type": "stream",
     "text": [
      "social_platform_preference\n",
      "Facebook    227\n",
      "Name: social_platform_preference, dtype: int64\n",
      "social_platform_preference\n",
      "Twitter    178\n",
      "Name: social_platform_preference, dtype: int64\n"
     ]
    }
   ],
   "source": [
    "# red social mas utilizada \n",
    "print(data.groupby('social_platform_preference')['social_platform_preference'].count().sort_values().tail(1))\n",
    "# red oscial menos utilizada\n",
    "print(data.groupby('social_platform_preference')['social_platform_preference'].count().sort_values().head(1))"
   ]
  },
  {
   "cell_type": "code",
   "execution_count": 22,
   "id": "db021d06",
   "metadata": {},
   "outputs": [
    {
     "name": "stdout",
     "output_type": "stream",
     "text": [
      "job_type\n",
      "Health     177\n",
      "Finance    172\n",
      "IT         167\n",
      "Name: job_type, dtype: int64\n"
     ]
    }
   ],
   "source": [
    "#top 3 trabajo con mas redes sociales\n",
    "print(data.groupby('job_type')['job_type'].count().sort_values(ascending=False).head(3))"
   ]
  },
  {
   "cell_type": "code",
   "execution_count": null,
   "id": "2e4f70ae",
   "metadata": {},
   "outputs": [],
   "source": [
    "# cuantas horas  pasa cada trabajo en redes sociales\n",
    "\n",
    "# el promedio de horas de trabajo en redes sociales "
   ]
  },
  {
   "cell_type": "code",
   "execution_count": 23,
   "id": "e7d3e810",
   "metadata": {},
   "outputs": [
    {
     "name": "stdout",
     "output_type": "stream",
     "text": [
      "       work_hours_per_day daily_social_media_time number_of_notifications  \\\n",
      "                     mean                    mean                   count   \n",
      "gender                                                                      \n",
      "Female           6.944809                3.057501                     491   \n",
      "Male             7.014880                2.949288                     463   \n",
      "Other            7.110791                3.240502                      46   \n",
      "\n",
      "                   \n",
      "             mean  \n",
      "gender             \n",
      "Female  60.256619  \n",
      "Male    59.714903  \n",
      "Other   60.586957  \n"
     ]
    }
   ],
   "source": [
    "# mostrar en una tbla el promedio por horas, horas en redes socailes , cantida de notificacioens hombre y mujer \n",
    "print(data.groupby('gender').agg({\n",
    "    'work_hours_per_day' : 'mean',\n",
    "    'daily_social_media_time': 'mean',\n",
    "    'number_of_notifications' : ['count', 'mean']\n",
    "}))"
   ]
  }
 ],
 "metadata": {
  "kernelspec": {
   "display_name": "Python 3",
   "language": "python",
   "name": "python3"
  },
  "language_info": {
   "codemirror_mode": {
    "name": "ipython",
    "version": 3
   },
   "file_extension": ".py",
   "mimetype": "text/x-python",
   "name": "python",
   "nbconvert_exporter": "python",
   "pygments_lexer": "ipython3",
   "version": "3.13.3"
  }
 },
 "nbformat": 4,
 "nbformat_minor": 5
}
