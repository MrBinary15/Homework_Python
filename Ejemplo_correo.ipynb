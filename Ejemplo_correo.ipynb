{
 "cells": [
  {
   "cell_type": "markdown",
   "id": "3a35b362",
   "metadata": {},
   "source": [
    "https://myaccount.google.com/signinoptions/two-step-verification\n",
    "\n",
    " \n",
    "\n",
    "https://myaccount.google.com/apppasswords\n",
    "\n",
    "hsfx hiqu rfef kahf"
   ]
  },
  {
   "cell_type": "code",
   "execution_count": 3,
   "id": "fd50b4f8",
   "metadata": {},
   "outputs": [
    {
     "name": "stdout",
     "output_type": "stream",
     "text": [
      "Tiene SMTP_SSL?: True\n",
      "Cargando desde: c:\\Python313\\Lib\\smtplib.py\n"
     ]
    }
   ],
   "source": [
    "\n",
    "import pandas as pd #? para leer y manipular excels\n",
    "import smtplib\n",
    "print(\"Tiene SMTP_SSL?:\", hasattr(smtplib, \"SMTP_SSL\"))\n",
    "print(\"Cargando desde:\", smtplib.__file__)"
   ]
  },
  {
   "cell_type": "code",
   "execution_count": 4,
   "id": "3108358e",
   "metadata": {},
   "outputs": [],
   "source": [
    "name_account=\"arturoparrapico\" #usuario\n",
    "email_account=\"arturoparrapico@gmail.com\" #correo\n",
    "password_account = \"hsfxhiqurfefkahf\" #clave de aplicación"
   ]
  },
  {
   "cell_type": "code",
   "execution_count": 5,
   "id": "8bfddd99",
   "metadata": {},
   "outputs": [
    {
     "data": {
      "text/plain": [
       "(235, b'2.7.0 Accepted')"
      ]
     },
     "execution_count": 5,
     "metadata": {},
     "output_type": "execute_result"
    }
   ],
   "source": [
    "#'smtp.gmail.com' y puerto 465 corresponde a gmail\n",
    "# #'smtp-mail.outlook.com' y puerto 587\n",
    "server = smtplib.SMTP_SSL(\"smtp.gmail.com\", 465)\n",
    "#saludo al servidor\n",
    "server.ehlo()\n",
    "#inicio de sesion\n",
    "server.login(email_account, password_account)"
   ]
  },
  {
   "cell_type": "code",
   "execution_count": 15,
   "id": "0405438e",
   "metadata": {},
   "outputs": [
    {
     "name": "stdout",
     "output_type": "stream",
     "text": [
      "     Name                      Email   Subject               Message\n",
      "0  Felipe  arturoparrapico@gmail.com   Testing   Hola primer mensaje\n",
      "1  Carlos  arturoparrapico@gmail.com  Encuesta  Hola segundo mensaje\n"
     ]
    }
   ],
   "source": [
    "email_df = pd.read_excel(\"emails.xlsx\")#lee el excel\n",
    "print(email_df)"
   ]
  },
  {
   "cell_type": "code",
   "execution_count": 14,
   "id": "20865098",
   "metadata": {},
   "outputs": [
    {
     "name": "stdout",
     "output_type": "stream",
     "text": [
      "0    Felipe\n",
      "1    Carlos\n",
      "Name: Name, dtype: object\n"
     ]
    }
   ],
   "source": [
    "all_name = email_df['Name']#obtengo nombres\n",
    "print(all_name)"
   ]
  },
  {
   "cell_type": "code",
   "execution_count": 13,
   "id": "376b6439",
   "metadata": {},
   "outputs": [
    {
     "name": "stdout",
     "output_type": "stream",
     "text": [
      "0    arturoparrapico@gmail.com\n",
      "1    arturoparrapico@gmail.com\n",
      "Name: Email, dtype: object\n"
     ]
    }
   ],
   "source": [
    "all_email = email_df['Email']#obtengo emails\n",
    "print(all_email)"
   ]
  },
  {
   "cell_type": "code",
   "execution_count": 46,
   "id": "8c5160c7",
   "metadata": {},
   "outputs": [
    {
     "name": "stdout",
     "output_type": "stream",
     "text": [
      "0     Testing\n",
      "1    Encuesta\n",
      "Name: Subject, dtype: object\n"
     ]
    }
   ],
   "source": [
    "all_subject = email_df['Subject']#obtengo asunto\n",
    "print(all_subject)"
   ]
  },
  {
   "cell_type": "code",
   "execution_count": 47,
   "id": "5d037150",
   "metadata": {},
   "outputs": [
    {
     "name": "stdout",
     "output_type": "stream",
     "text": [
      "0     Hola primer mensaje\n",
      "1    Hola segundo mensaje\n",
      "Name: Message, dtype: object\n"
     ]
    }
   ],
   "source": [
    "all_mensaje = email_df['Message']#obtengo mensaje\n",
    "print(all_mensaje)"
   ]
  },
  {
   "cell_type": "code",
   "execution_count": null,
   "id": "0a1a8843",
   "metadata": {},
   "outputs": [],
   "source": [
    "for i in range(len(email_df)):#? obtine la cantidad de elementos que hay en ese rango y se trabaja (len cuenta los elementos)\n",
    "  name = all_name[i] #? de todo los usuarios trabaja con el primero\n",
    "  email = all_email[i]\n",
    "  subject = all_subject[i]\n",
    "  mensaje = all_mensaje[i]"
   ]
  },
  {
   "cell_type": "code",
   "execution_count": null,
   "id": "f41cc2bf",
   "metadata": {},
   "outputs": [],
   "source": [
    "#? Construimos el cuerpo del mensaje con el nombre y el texto que queremos enviar\n",
    "message = (\"Hola \" + name + \" \\n\\n \" + mensaje)  # mensaje final\n",
    "\n",
    "# Construimos el correo en formato texto plano con cabeceras básicas\n",
    "send_gmail = (\"from: {0} <{1}>\\n\"    # Remitente: nombre y correo\n",
    "              \"to: {2} <{3}>\\n\"      # Destinatario: nombre y correo\n",
    "              \"{5}\".format(name_account, email_account, name, email, subject, message))\n",
    "# Aquí usamos format() para insertar:\n",
    "# {0} = name_account\n",
    "# {1} = email_account\n",
    "# {2} = name\n",
    "# {3} = email\n",
    "# {5} = message\n",
    "# (Ojo: el índice {4} está definido en format como subject, pero nunca se usa)\n",
    "\n",
    "try:\n",
    "    # Intentamos enviar el correo\n",
    "    # server.sendmail(remitente, destinatario, mensaje)\n",
    "    server.sendmail(email_account, {email}, send_gmail)\n",
    "\n",
    "except:\n",
    "    # Si hay algún error al enviar el correo, mostramos este mensaje\n",
    "    print(\"Error: no se puedo enviar email\")\n",
    "\n",
    "# Cerramos la conexión con el servidor SMTP\n",
    "server.close()"
   ]
  }
 ],
 "metadata": {
  "kernelspec": {
   "display_name": "Python 3",
   "language": "python",
   "name": "python3"
  },
  "language_info": {
   "codemirror_mode": {
    "name": "ipython",
    "version": 3
   },
   "file_extension": ".py",
   "mimetype": "text/x-python",
   "name": "python",
   "nbconvert_exporter": "python",
   "pygments_lexer": "ipython3",
   "version": "3.13.5"
  }
 },
 "nbformat": 4,
 "nbformat_minor": 5
}
